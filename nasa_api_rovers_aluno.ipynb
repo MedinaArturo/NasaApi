{
  "nbformat": 4,
  "nbformat_minor": 0,
  "metadata": {
    "colab": {
      "provenance": []
    },
    "kernelspec": {
      "name": "python3",
      "display_name": "Python 3"
    },
    "language_info": {
      "name": "python"
    }
  },
  "cells": [
    {
      "cell_type": "markdown",
      "source": [
        "#Consumindo API Rovers da NASA \n",
        "\n"
      ],
      "metadata": {
        "id": "YuciWh1vI41S"
      }
    },
    {
      "cell_type": "markdown",
      "source": [
        "O dois ultimos dígitos do seu RA vai definir qual camera você utilizará\n",
        "\n",
        "EXEMPLO:\n",
        "\n",
        " RA 09329***3***5\n",
        "\n",
        " o \"3\" em destaque acima, significa a camera que irá usar na API\n",
        "\n",
        " No caso abaixo, iremos usar o RHAZ neste exemplo"
      ],
      "metadata": {
        "id": "8iqytiaAGYQ6"
      }
    },
    {
      "cell_type": "markdown",
      "source": [
        "0, 1 - **FHAZ** -\tFront Hazard Avoidance Camera\n",
        "\n",
        "2 , 3 - **RHAZ** - \tRear Hazard Avoidance Camera\n",
        "\n",
        "4 - **MAST** - \tMast Camera\n",
        "\n",
        "5 - **CHEMCAM**\t- Chemistry and Camera Complex\n",
        "\n",
        "6 - **MAHLI** -\tMars Hand Lens Imager\n",
        "\n",
        "7 - **MARDI**\t- Mars Descent Imager\n",
        "\n",
        "8 - **NAVCAM** - Navigation CameraPANCAM\tPanoramic Camera\n",
        "\n",
        "9 - **MINITES** - Miniature Thermal Emission Spectrometer (Mini-TES)"
      ],
      "metadata": {
        "id": "PQ4FpRdUDSuj"
      }
    },
    {
      "cell_type": "markdown",
      "source": [
        " RA 093293***5***\n",
        "\n",
        " o \"5\" em destaque acima, acrescido de um 0 (zero) ao final, significa o parametro sol que irá usar\n",
        "\n",
        " ou seja:\n",
        "\n",
        " 5 = 50\n",
        "\n",
        " 3 = 30\n",
        " \n",
        " 4 = 40 \n",
        "\n",
        "e assim sucessivamente:"
      ],
      "metadata": {
        "id": "qEDm--dEGW9p"
      }
    },
    {
      "cell_type": "markdown",
      "source": [
        "Caso exista mais de um, o Rover é de livre escolha dentre os parametros definidos no seu RA"
      ],
      "metadata": {
        "id": "61oxxzz0HptD"
      }
    },
    {
      "cell_type": "markdown",
      "source": [
        "## Realize abaixo o exercicio e suba em seu github, compartilhe o link \n",
        " \n",
        "\n"
      ],
      "metadata": {
        "id": "pfRUszesIq7a"
      }
    },
    {
      "cell_type": "code",
      "source": [
        "import requests"
      ],
      "metadata": {
        "id": "JVR-0wgsJDx5"
      },
      "execution_count": 50,
      "outputs": []
    },
    {
      "cell_type": "code",
      "source": [
        "#22011007\n",
        "r = requests.get(\"https://api.nasa.gov/mars-photos/api/v1/rovers/curiosity/photos?camera=fhaz&sol=70&&api_key=r8W2bPKUc483lWUxZHJZd8ktTldcWK3bkdgfagwB\")\n",
        "response = r.json()\n",
        "print(response['photos'][0]['img_src'])"
      ],
      "metadata": {
        "colab": {
          "base_uri": "https://localhost:8080/"
        },
        "id": "DLv9nRmYnUYY",
        "outputId": "9fdbfa92-9ca1-4f55-fd35-caabcbb36de8"
      },
      "execution_count": 51,
      "outputs": [
        {
          "output_type": "stream",
          "name": "stdout",
          "text": [
            "http://mars.jpl.nasa.gov/msl-raw-images/proj/msl/redops/ods/surface/sol/00070/opgs/edr/fcam/FRA_403694921EDR_F0050104FHAZ00311M_.JPG\n"
          ]
        }
      ]
    }
  ]
}